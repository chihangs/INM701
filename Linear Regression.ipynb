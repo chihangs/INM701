{
 "cells": [
  {
   "cell_type": "markdown",
   "id": "984ee027",
   "metadata": {},
   "source": [
    "# Linear Regression\n",
    "\n",
    "The purpose of this sectionn is to use linear regression to provide baseline performance metrics. First, import and load source data."
   ]
  },
  {
   "cell_type": "code",
   "execution_count": null,
   "id": "2777aad9",
   "metadata": {},
   "outputs": [],
   "source": [
    "import pandas as pd\n",
    "import numpy as np\n",
    "import seaborn as sns\n",
    "import matplotlib.pyplot as plt\n",
    "from scipy import stats\n",
    "import datetime\n",
    "from sklearn.linear_model import LinearRegression\n",
    "from sklearn.model_selection import train_test_split\n",
    "\n",
    "path = './archive/'\n",
    "\n",
    "kc_data = pd.read_csv(path + '/kc_house_data.csv')"
   ]
  },
  {
   "cell_type": "markdown",
   "id": "02e492d3",
   "metadata": {},
   "source": [
    "Clean data. Remove obviously wrong record with 33 bedrooms, detected in \"Outlier checking.ipynb\". Then split data into train, test, final test data by 60/20/20 ratio."
   ]
  },
  {
   "cell_type": "code",
   "execution_count": null,
   "id": "dd829897",
   "metadata": {},
   "outputs": [],
   "source": [
    "data = kc_data.drop(['id','date'],axis = 1)\n",
    "#remove obviously wrong record with 33 bedrooms, detected in \"Outlier checking.ipynb\"\n",
    "data = data.drop(labels=15870, axis=0) \n",
    "\n",
    "y = data['price']\n",
    "X = data.drop('price', axis=1)\n",
    "\n",
    "# split the train, test and final test data\n",
    "X_train, X_final_test, y_train, y_final_test = train_test_split(X, y, test_size=0.2, random_state=42) \n",
    "X_train, X_test, y_train, y_test = train_test_split(X_train, y_train, test_size=0.25, random_state=42) "
   ]
  },
  {
   "cell_type": "markdown",
   "id": "b93452ce",
   "metadata": {},
   "source": [
    "#-------------above: data clean and split--------------------------------------------\n",
    "\n",
    "Then fit the data into linear regression model."
   ]
  },
  {
   "cell_type": "code",
   "execution_count": 23,
   "id": "61c68dbd",
   "metadata": {},
   "outputs": [
    {
     "name": "stdout",
     "output_type": "stream",
     "text": [
      "intercept: 9659749.3046445; coef: [-4.03222821e+04  4.92518258e+04  1.15560493e+02  4.54552602e-02\n",
      "  1.08312956e+04  6.06896328e+05  5.07380709e+04  2.29768503e+04\n",
      "  9.14145641e+04  6.93758531e+01  4.61846389e+01 -2.79730237e+03\n",
      "  2.28230015e+01 -5.53977435e+02  5.91870075e+05 -1.75002535e+05\n",
      "  1.64920804e+01 -2.64974337e-01]\n",
      "----Training result----\n",
      "R2: 0.704973969111806\n",
      "RMSE: 198008.5491851872\n",
      "y_mean: 539542.543267006\n",
      "RMSE/y_mean: 0.36699339404492104\n",
      "----Testing result----\n",
      "R2: 0.6821443563298577\n",
      "RMSE: 199381.59155295495\n",
      "y_mean: 535019.4573213046\n",
      "RMSE/y_mean: 0.3700959777735217\n"
     ]
    }
   ],
   "source": [
    "\n",
    "\n",
    "#get (and print) coefficients and estimates of linear regression model, given data X, y\n",
    "def print_coef(X, y, X_test=X, y_test=y, to_print=True):\n",
    "    reg = LinearRegression().fit(X, y)\n",
    "    score=reg.score(X, y)\n",
    "    coef=reg.coef_\n",
    "    intercept=reg.intercept_\n",
    "    ss_residual = np.linalg.norm(y - reg.predict(X)) ** 2\n",
    "    RMSE = (ss_residual/len(y))**0.5\n",
    "    ss_residual_test = np.linalg.norm(y_test - reg.predict(X_test)) ** 2\n",
    "    RMSE_test = (ss_residual_test/len(y_test))**0.5\n",
    "    score_test = 1-ss_residual_test/(np.var(y_test)*len(y_test))\n",
    "    if to_print:\n",
    "        print(\"intercept: \"+str(intercept)+\"; coef: \"+str(coef))\n",
    "        print(\"----Training result----\")\n",
    "        print(\"R2: \"+str(score))\n",
    "        print(\"RMSE: \"+str(RMSE))\n",
    "        print(\"y_mean: \"+str(np.average(y)))\n",
    "        print(\"RMSE/y_mean: \"+str(RMSE/np.average(y)))\n",
    "        print(\"----Testing result----\")\n",
    "        print(\"R2: \"+str(score_test))\n",
    "        print(\"RMSE: \"+str(RMSE_test))\n",
    "        print(\"y_mean: \"+str(np.average(y_test)))\n",
    "        print(\"RMSE/y_mean: \"+str(RMSE/np.average(y_test)))\n",
    "    return     intercept, coef, score, ss_residual, RMSE, reg\n",
    "\n",
    "\n",
    "intercept, coef, score, ss_residual, RMSE, reg =print_coef(X_train, y_train, X_test, y_test)\n",
    "print"
   ]
  },
  {
   "cell_type": "code",
   "execution_count": 27,
   "id": "2ee4229a",
   "metadata": {},
   "outputs": [
    {
     "name": "stdout",
     "output_type": "stream",
     "text": [
      "For comparison, y_sigma/y_mean =\n",
      "0.6609985677070676\n"
     ]
    }
   ],
   "source": [
    "print(\"For comparison, y_sigma/y_mean =\")\n",
    "print(np.var(y_test)**0.5/np.average(y_test))"
   ]
  },
  {
   "cell_type": "code",
   "execution_count": null,
   "id": "cf61a28a",
   "metadata": {},
   "outputs": [],
   "source": []
  }
 ],
 "metadata": {
  "kernelspec": {
   "display_name": "Python 3",
   "language": "python",
   "name": "python3"
  },
  "language_info": {
   "codemirror_mode": {
    "name": "ipython",
    "version": 3
   },
   "file_extension": ".py",
   "mimetype": "text/x-python",
   "name": "python",
   "nbconvert_exporter": "python",
   "pygments_lexer": "ipython3",
   "version": "3.8.8"
  }
 },
 "nbformat": 4,
 "nbformat_minor": 5
}
