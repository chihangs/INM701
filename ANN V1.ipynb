{
 "cells": [
  {
   "cell_type": "markdown",
   "id": "c687af21",
   "metadata": {},
   "source": [
    "# ANN Model"
   ]
  },
  {
   "cell_type": "code",
   "execution_count": null,
   "id": "b13fc427",
   "metadata": {},
   "outputs": [],
   "source": [
    "import numpy as np\n",
    "import keras\n",
    "import tensorflow as tf\n",
    "import pandas as pd\n",
    "from sklearn.model_selection import train_test_split\n",
    "from keras.models import Sequential\n",
    "from keras.layers import Dense, Activation, Flatten\n",
    "from tensorflow.keras.optimizers import SGD, Adam, RMSprop\n",
    "from keras.layers import Dropout\n",
    "from sklearn.preprocessing import StandardScaler\n",
    "import matplotlib.pyplot as plt"
   ]
  },
  {
   "cell_type": "code",
   "execution_count": null,
   "id": "094303e0",
   "metadata": {},
   "outputs": [],
   "source": [
    "path = './archive'\n",
    "\n",
    "kc_data = pd.read_csv(path + '/kc_preprocessed.csv')\n",
    "kc_data = kc_data.drop(['Unnamed: 0'], axis = 1)\n",
    "\n"
   ]
  },
  {
   "cell_type": "code",
   "execution_count": null,
   "id": "fe2467c7",
   "metadata": {},
   "outputs": [],
   "source": [
    "columns = kc_data.columns\n",
    "\n",
    "result = kc_data.copy()\n",
    "for feature_name in columns:\n",
    "    max_value = kc_data[feature_name].max()\n",
    "    min_value = kc_data[feature_name].min()\n",
    "    result[feature_name] = (kc_data[feature_name] - min_value) / (max_value - min_value)\n",
    "\n",
    "kc_data = result"
   ]
  },
  {
   "cell_type": "code",
   "execution_count": null,
   "id": "fd56d074",
   "metadata": {},
   "outputs": [],
   "source": [
    "target = kc_data['price']\n",
    "data = kc_data.drop(['price'], axis = 1)"
   ]
  },
  {
   "cell_type": "code",
   "execution_count": null,
   "id": "6fa78ec9",
   "metadata": {},
   "outputs": [],
   "source": [
    "x_train, x_test, y_train, y_test = train_test_split(data, target, test_size = 0.2)"
   ]
  },
  {
   "cell_type": "code",
   "execution_count": null,
   "id": "9bf40352",
   "metadata": {
    "scrolled": false
   },
   "outputs": [],
   "source": [
    "#Base Structure\n",
    "\n",
    "NN_model = Sequential()\n",
    "NN_model.add(Dense(17,input_dim = x_train.shape[1], activation='relu'))\n",
    "\n",
    "# The Hidden Layers :\n",
    "NN_model.add(Dense(100,activation='sigmoid'))\n",
    "\n",
    "NN_model.add(Dense(100, activation='sigmoid'))\n",
    "\n",
    "NN_model.add(Dense(50, activation='sigmoid'))\n",
    "\n",
    "\n",
    "\n",
    "# The Output Layer :\n",
    "NN_model.add(Dense(1,))\n",
    "\n",
    "# Compile the network :\n",
    "opt = SGD(learning_rate=0.001, momentum=1)\n",
    "# opt = Adam(learning_rate=  0.001)\n",
    "NN_model.compile(loss ='mean_squared_error', optimizer='RMSprop',)\n",
    "NN_model.summary()"
   ]
  },
  {
   "cell_type": "code",
   "execution_count": null,
   "id": "aa5dd8b0",
   "metadata": {},
   "outputs": [],
   "source": [
    "#hidden layer examination\n",
    "Models = []\n",
    "\n",
    "for i in range(1,6):\n",
    "    NN = Sequential()\n",
    "    NN.add(Dense(17,input_dim = x_train.shape[1], activation='relu'))\n",
    "    NN.add(Dense(10,activation='relu'))\n",
    "    for j in range(i):\n",
    "        NN.add(Dense(5, activation='relu'))\n",
    "        \n",
    "    NN.add(Dense(1,))\n",
    "    NN.compile(loss ='mean_squared_error', optimizer='RMSprop',)\n",
    "\n",
    "    Models.append(NN)\n",
    "    \n",
    "        \n",
    "counter = 0\n",
    "for model in Models:\n",
    "    print('training model:')\n",
    "    \n",
    "    history = model.fit(x = x_train, y = y_train, epochs=60, verbose = 0)\n",
    "    plt.figure()\n",
    "    plt.plot(history.history['loss'],)\n",
    "    plt.title('Number of hidden layers:{}'.format(counter))\n",
    "    counter += 1\n",
    "    \n",
    "    "
   ]
  },
  {
   "cell_type": "code",
   "execution_count": null,
   "id": "71703225",
   "metadata": {
    "scrolled": true
   },
   "outputs": [],
   "source": [
    "# activation function examination\n",
    "Models = []\n",
    "\n",
    "activation_func = ['relu','sigmoid','tanh','elu','selu','softmax']\n",
    "for func in activation_func:\n",
    "    NN = Sequential()\n",
    "    NN.add(Dense(17,input_dim = x_train.shape[1], activation=func))\n",
    "    NN.add(Dense(10,activation=func))\n",
    "    NN.add(Dense(5, activation=func))\n",
    "    for j in range(i):\n",
    "        NN.add(Dense(5, activation=func))\n",
    "        \n",
    "    NN.add(Dense(1,))\n",
    "    NN.compile(loss ='mean_squared_error', optimizer='RMSprop',)\n",
    "\n",
    "    Models.append(NN)\n",
    "    \n",
    "counter = 0\n",
    "for model in Models:\n",
    "    print('training model:')\n",
    "    \n",
    "    history = model.fit(x = x_train, y = y_train, epochs=60, verbose = 0)\n",
    "    plt.figure()\n",
    "    plt.title(activation_func[counter])\n",
    "    plt.plot(history.history['loss'],)\n",
    "    counter += 1\n",
    "    "
   ]
  },
  {
   "cell_type": "code",
   "execution_count": null,
   "id": "ced3da8e",
   "metadata": {
    "scrolled": true
   },
   "outputs": [],
   "source": [
    "# optimizer examination\n",
    "Models = []\n",
    "\n",
    "optimizers = ['SGD','RMSprop','Adam','Adadelta','Adagrad','Adamax','Nadam','Ftrl']\n",
    "for opt in optimizers:\n",
    "    NN = Sequential()\n",
    "    NN.add(Dense(17,input_dim = x_train.shape[1], activation='relu'))\n",
    "    NN.add(Dense(10,activation='relu'))\n",
    "    NN.add(Dense(5, activation='relu'))\n",
    "    for j in range(i):\n",
    "        NN.add(Dense(5, activation='relu'))\n",
    "        \n",
    "    NN.add(Dense(1,))\n",
    "    NN.compile(loss ='mean_squared_error', optimizer=opt,)\n",
    "\n",
    "    Models.append(NN)\n",
    "    \n",
    "counter = 0\n",
    "for model in Models:\n",
    "    print('training model:')\n",
    "    \n",
    "    history = model.fit(x = x_train, y = y_train, epochs=60, verbose = 0)\n",
    "    plt.figure()\n",
    "    plt.title(optimizers[counter])\n",
    "    plt.plot(history.history['loss'],)\n",
    "    counter += 1"
   ]
  },
  {
   "cell_type": "code",
   "execution_count": null,
   "id": "f0e3c561",
   "metadata": {},
   "outputs": [],
   "source": [
    "# learning rate examination\n",
    "Models = []\n",
    "\n",
    "learning_rates = [0.1,0.01,0.001,0.0001,0.00001,0.000001,0.0000001]\n",
    "for lr in learning_rates:\n",
    "    NN = Sequential()\n",
    "    NN.add(Dense(17,input_dim = x_train.shape[1], activation='relu'))\n",
    "    NN.add(Dense(10,activation='relu'))\n",
    "    NN.add(Dense(5, activation='relu'))\n",
    "    for j in range(i):\n",
    "        NN.add(Dense(5, activation='relu'))\n",
    "    opt = RMSprop(learning_rate= lr, momentum=0.9)    \n",
    "    NN.add(Dense(1,))\n",
    "    NN.compile(loss ='mean_squared_error', optimizer=opt,)\n",
    "\n",
    "    Models.append(NN)\n",
    "    \n",
    "counter = 0\n",
    "for model in Models:\n",
    "    print('training model:')\n",
    "    \n",
    "    history = model.fit(x = x_train, y = y_train, epochs=60, verbose = 0)\n",
    "    plt.figure()\n",
    "    plt.title('learning rate: {}'.format(learning_rates[counter]))\n",
    "    plt.plot(history.history['loss'],)\n",
    "    counter += 1"
   ]
  },
  {
   "cell_type": "code",
   "execution_count": null,
   "id": "6b00e2b0",
   "metadata": {},
   "outputs": [],
   "source": [
    "# loss function examination\n",
    "\n",
    "Models = []\n",
    "\n",
    "loss_functions = ['mean_squared_error','mean_absolute_error','mean_absolute_percentage_error',\n",
    "                  'mean_squared_logarithmic_error','cosine_similarity','huber','log_cosh']\n",
    "\n",
    "for func in loss_functions:\n",
    "    NN = Sequential()\n",
    "    NN.add(Dense(17,input_dim = x_train.shape[1], activation='relu'))\n",
    "    NN.add(Dense(10,activation='relu'))\n",
    "    NN.add(Dense(5, activation='relu'))\n",
    "    for j in range(i):\n",
    "        NN.add(Dense(5, activation='relu'))\n",
    "    opt = RMSprop(learning_rate= 0.001, momentum=0.9)    \n",
    "    NN.add(Dense(1,))\n",
    "    NN.compile(loss = func, optimizer=opt,)\n",
    "\n",
    "    Models.append(NN)\n",
    "    \n",
    "counter = 0\n",
    "for model in Models:\n",
    "    print('training model:')\n",
    "    \n",
    "    history = model.fit(x = x_train, y = y_train, epochs=60, verbose = 0)\n",
    "    plt.figure()\n",
    "    plt.title(loss_functions[counter])\n",
    "    plt.plot(history.history['loss'],)\n",
    "    counter += 1"
   ]
  },
  {
   "cell_type": "code",
   "execution_count": null,
   "id": "38bbb0df",
   "metadata": {
    "scrolled": true
   },
   "outputs": [],
   "source": [
    "history = NN_model.fit(x = x_train, y = y_train, epochs=150,)\n",
    "\n",
    "plt.plot(history.history['loss'])"
   ]
  },
  {
   "cell_type": "code",
   "execution_count": null,
   "id": "e75c6d95",
   "metadata": {},
   "outputs": [],
   "source": [
    "loss = NN_model.evaluate(x_test, y_test)\n"
   ]
  },
  {
   "cell_type": "code",
   "execution_count": null,
   "id": "6981b60d",
   "metadata": {},
   "outputs": [],
   "source": [
    "(NN_model.predict(x_test))"
   ]
  },
  {
   "cell_type": "code",
   "execution_count": null,
   "id": "3be1373e",
   "metadata": {},
   "outputs": [],
   "source": [
    "y = np.array(y_test).reshape(-1,1)"
   ]
  },
  {
   "cell_type": "code",
   "execution_count": null,
   "id": "b3f44400",
   "metadata": {},
   "outputs": [],
   "source": []
  }
 ],
 "metadata": {
  "kernelspec": {
   "display_name": "Python 3 (ipykernel)",
   "language": "python",
   "name": "python3"
  },
  "language_info": {
   "codemirror_mode": {
    "name": "ipython",
    "version": 3
   },
   "file_extension": ".py",
   "mimetype": "text/x-python",
   "name": "python",
   "nbconvert_exporter": "python",
   "pygments_lexer": "ipython3",
   "version": "3.9.7"
  }
 },
 "nbformat": 4,
 "nbformat_minor": 5
}
