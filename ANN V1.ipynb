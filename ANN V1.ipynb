{
 "cells": [
  {
   "cell_type": "markdown",
   "id": "c687af21",
   "metadata": {},
   "source": [
    "# ANN Model"
   ]
  },
  {
   "cell_type": "code",
   "execution_count": 24,
   "id": "b13fc427",
   "metadata": {},
   "outputs": [],
   "source": [
    "import numpy as np\n",
    "import keras\n",
    "import tensorflow as tf\n",
    "import pandas as pd\n",
    "from sklearn.model_selection import train_test_split\n",
    "from keras.models import Sequential\n",
    "from keras.layers import Dense, Activation, Flatten\n",
    "from tensorflow.keras.optimizers import SGD, Adam\n",
    "from keras.layers import Dropout\n",
    "from sklearn.preprocessing import StandardScaler\n",
    "import matplotlib.pyplot as plt"
   ]
  },
  {
   "cell_type": "code",
   "execution_count": 25,
   "id": "094303e0",
   "metadata": {},
   "outputs": [],
   "source": [
    "path = './archive'\n",
    "\n",
    "kc_data = pd.read_csv(path + '/kc_preprocessed.csv')\n",
    "kc_data = kc_data.drop(['Unnamed: 0'], axis = 1)\n",
    "\n"
   ]
  },
  {
   "cell_type": "code",
   "execution_count": 26,
   "id": "fe2467c7",
   "metadata": {},
   "outputs": [],
   "source": [
    "columns = kc_data.columns\n",
    "\n",
    "result = kc_data.copy()\n",
    "for feature_name in columns:\n",
    "    max_value = kc_data[feature_name].max()\n",
    "    min_value = kc_data[feature_name].min()\n",
    "    result[feature_name] = (kc_data[feature_name] - min_value) / (max_value - min_value)\n",
    "\n",
    "kc_data = result"
   ]
  },
  {
   "cell_type": "code",
   "execution_count": 28,
   "id": "fd56d074",
   "metadata": {},
   "outputs": [],
   "source": [
    "target = kc_data['price']\n",
    "data = kc_data.drop(['price'], axis = 1)"
   ]
  },
  {
   "cell_type": "code",
   "execution_count": 29,
   "id": "6fa78ec9",
   "metadata": {},
   "outputs": [],
   "source": [
    "x_train, x_test, y_train, y_test = train_test_split(data, target, test_size = 0.2)"
   ]
  },
  {
   "cell_type": "code",
   "execution_count": 30,
   "id": "9bf40352",
   "metadata": {
    "scrolled": false
   },
   "outputs": [
    {
     "name": "stdout",
     "output_type": "stream",
     "text": [
      "Model: \"sequential_59\"\n",
      "_________________________________________________________________\n",
      " Layer (type)                Output Shape              Param #   \n",
      "=================================================================\n",
      " dense_430 (Dense)           (None, 17)                306       \n",
      "                                                                 \n",
      " dense_431 (Dense)           (None, 100)               1800      \n",
      "                                                                 \n",
      " dense_432 (Dense)           (None, 100)               10100     \n",
      "                                                                 \n",
      " dense_433 (Dense)           (None, 50)                5050      \n",
      "                                                                 \n",
      " dense_434 (Dense)           (None, 1)                 51        \n",
      "                                                                 \n",
      "=================================================================\n",
      "Total params: 17,307\n",
      "Trainable params: 17,307\n",
      "Non-trainable params: 0\n",
      "_________________________________________________________________\n"
     ]
    }
   ],
   "source": [
    "NN_model = Sequential()\n",
    "NN_model.add(Dense(17,input_dim = x_train.shape[1], activation='relu'))\n",
    "\n",
    "# The Hidden Layers :\n",
    "NN_model.add(Dense(100,activation='sigmoid'))\n",
    "\n",
    "NN_model.add(Dense(100, activation='sigmoid'))\n",
    "\n",
    "NN_model.add(Dense(50, activation='sigmoid'))\n",
    "\n",
    "\n",
    "\n",
    "# The Output Layer :\n",
    "NN_model.add(Dense(1,))\n",
    "\n",
    "# Compile the network :\n",
    "opt = SGD(learning_rate=0.001, momentum=1)\n",
    "# opt = Adam(learning_rate=  0.001)\n",
    "NN_model.compile(loss ='mean_squared_error', optimizer='RMSprop',)\n",
    "NN_model.summary()"
   ]
  },
  {
   "cell_type": "code",
   "execution_count": 31,
   "id": "aa5dd8b0",
   "metadata": {},
   "outputs": [],
   "source": [
    "Models = []\n",
    "\n",
    "for i in range(0,5):\n",
    "    NN = Sequential()\n",
    "    NN.add(Dense(17,input_dim = x_train.shape[1], activation='relu'))\n",
    "    NN.add(Dense(10,activation='sigmoid'))\n",
    "    NN.add(Dense(5, activation='sigmoid'))\n",
    "    for j in range(i):\n",
    "        NN.add(Dense(5, activation='sigmoid'))\n",
    "        \n",
    "    NN.add(Dense(1,))\n",
    "    NN.compile(loss ='mean_squared_error', optimizer='RMSprop',)\n",
    "\n",
    "    Models.append(NN)\n",
    "    \n",
    "        \n",
    "\n",
    "    "
   ]
  },
  {
   "cell_type": "code",
   "execution_count": 32,
   "id": "e247c697",
   "metadata": {},
   "outputs": [
    {
     "name": "stdout",
     "output_type": "stream",
     "text": [
      "training model:\n",
      "training model:\n",
      "training model:\n",
      "training model:\n",
      "training model:\n"
     ]
    },
    {
     "data": {
      "image/png": "[encoded data removed]",
      "text/plain": [
       "<Figure size 432x288 with 1 Axes>"
      ]
     },
     "metadata": {
      "needs_background": "light"
     },
     "output_type": "display_data"
    },
    {
     "data": {
      "image/png": "[encoded data removed]",
      "text/plain": [
       "<Figure size 432x288 with 1 Axes>"
      ]
     },
     "metadata": {
      "needs_background": "light"
     },
     "output_type": "display_data"
    },
    {
     "data": {
      "image/png": "[encoded data removed]",
      "text/plain": [
       "<Figure size 432x288 with 1 Axes>"
      ]
     },
     "metadata": {
      "needs_background": "light"
     },
     "output_type": "display_data"
    },
    {
     "data": {
      "image/png": "[encoded data removed]",
      "text/plain": [
       "<Figure size 432x288 with 1 Axes>"
      ]
     },
     "metadata": {
      "needs_background": "light"
     },
     "output_type": "display_data"
    },
    {
     "data": {
      "image/png": "[encoded data removed]",
      "text/plain": [
       "<Figure size 432x288 with 1 Axes>"
      ]
     },
     "metadata": {
      "needs_background": "light"
     },
     "output_type": "display_data"
    }
   ],
   "source": [
    "\n",
    "for model in Models:\n",
    "    print('training model:')\n",
    "    \n",
    "    history = model.fit(x = x_train, y = y_train, epochs=60, verbose = 0)\n",
    "    plt.figure()\n",
    "    plt.plot(history.history['loss'],)"
   ]
  },
  {
   "cell_type": "code",
   "execution_count": 7,
   "id": "38bbb0df",
   "metadata": {
    "scrolled": true
   },
   "outputs": [
    {
     "name": "stdout",
     "output_type": "stream",
     "text": [
      "Epoch 1/150\n",
      "522/522 [==============================] - 1s 1ms/step - loss: 0.0162\n",
      "Epoch 2/150\n",
      "522/522 [==============================] - 1s 1ms/step - loss: 0.0092\n",
      "Epoch 3/150\n",
      "522/522 [==============================] - 1s 1ms/step - loss: 0.0076\n",
      "Epoch 4/150\n",
      "522/522 [==============================] - 1s 1ms/step - loss: 0.0066\n",
      "Epoch 5/150\n",
      "522/522 [==============================] - 1s 1ms/step - loss: 0.0060\n",
      "Epoch 6/150\n",
      "522/522 [==============================] - 1s 1ms/step - loss: 0.0056\n",
      "Epoch 7/150\n",
      "522/522 [==============================] - 1s 1ms/step - loss: 0.0053\n",
      "Epoch 8/150\n",
      "522/522 [==============================] - 1s 1ms/step - loss: 0.0051\n",
      "Epoch 9/150\n",
      "522/522 [==============================] - 1s 1ms/step - loss: 0.0050A: 0s - loss: \n",
      "Epoch 10/150\n",
      "522/522 [==============================] - 1s 1ms/step - loss: 0.0049\n",
      "Epoch 11/150\n",
      "522/522 [==============================] - 1s 1ms/step - loss: 0.0048\n",
      "Epoch 12/150\n",
      "522/522 [==============================] - 1s 1ms/step - loss: 0.0046\n",
      "Epoch 13/150\n",
      "522/522 [==============================] - 1s 1ms/step - loss: 0.0046\n",
      "Epoch 14/150\n",
      "522/522 [==============================] - 1s 1ms/step - loss: 0.0044\n",
      "Epoch 15/150\n",
      "522/522 [==============================] - 1s 1ms/step - loss: 0.0044\n",
      "Epoch 16/150\n",
      "522/522 [==============================] - 1s 1ms/step - loss: 0.0043\n",
      "Epoch 17/150\n",
      "522/522 [==============================] - 1s 1ms/step - loss: 0.0043\n",
      "Epoch 18/150\n",
      "522/522 [==============================] - 1s 1ms/step - loss: 0.0042\n",
      "Epoch 19/150\n",
      "522/522 [==============================] - ETA: 0s - loss: 0.004 - 1s 1ms/step - loss: 0.0041\n",
      "Epoch 20/150\n",
      "522/522 [==============================] - 1s 1ms/step - loss: 0.0041\n",
      "Epoch 21/150\n",
      "522/522 [==============================] - 1s 1ms/step - loss: 0.0040\n",
      "Epoch 22/150\n",
      "522/522 [==============================] - 1s 1ms/step - loss: 0.0039\n",
      "Epoch 23/150\n",
      "522/522 [==============================] - 1s 1ms/step - loss: 0.0039\n",
      "Epoch 24/150\n",
      "522/522 [==============================] - 1s 1ms/step - loss: 0.0038A: 0s - los\n",
      "Epoch 25/150\n",
      "522/522 [==============================] - 1s 1ms/step - loss: 0.0038\n",
      "Epoch 26/150\n",
      "522/522 [==============================] - 1s 1ms/step - loss: 0.0037\n",
      "Epoch 27/150\n",
      "522/522 [==============================] - 1s 1ms/step - loss: 0.0037\n",
      "Epoch 28/150\n",
      "522/522 [==============================] - 1s 1ms/step - loss: 0.0036A: 0s - los\n",
      "Epoch 29/150\n",
      "522/522 [==============================] - 1s 1ms/step - loss: 0.0036\n",
      "Epoch 30/150\n",
      "522/522 [==============================] - 1s 1ms/step - loss: 0.0036\n",
      "Epoch 31/150\n",
      "522/522 [==============================] - 1s 1ms/step - loss: 0.0035\n",
      "Epoch 32/150\n",
      "522/522 [==============================] - 1s 1ms/step - loss: 0.0035\n",
      "Epoch 33/150\n",
      "522/522 [==============================] - 1s 1ms/step - loss: 0.0034\n",
      "Epoch 34/150\n",
      "522/522 [==============================] - 1s 1ms/step - loss: 0.0034\n",
      "Epoch 35/150\n",
      "522/522 [==============================] - 1s 1ms/step - loss: 0.0034\n",
      "Epoch 36/150\n",
      "522/522 [==============================] - 1s 1ms/step - loss: 0.0034\n",
      "Epoch 37/150\n",
      "522/522 [==============================] - 1s 1ms/step - loss: 0.0034\n",
      "Epoch 38/150\n",
      "522/522 [==============================] - 1s 1ms/step - loss: 0.0033\n",
      "Epoch 39/150\n",
      "522/522 [==============================] - 1s 1ms/step - loss: 0.0033\n",
      "Epoch 40/150\n",
      "522/522 [==============================] - 1s 1ms/step - loss: 0.0033\n",
      "Epoch 41/150\n",
      "522/522 [==============================] - 1s 1ms/step - loss: 0.0032\n",
      "Epoch 42/150\n",
      "522/522 [==============================] - 1s 1ms/step - loss: 0.0032\n",
      "Epoch 43/150\n",
      "522/522 [==============================] - 1s 1ms/step - loss: 0.0032\n",
      "Epoch 44/150\n",
      "522/522 [==============================] - 1s 1ms/step - loss: 0.0032\n",
      "Epoch 45/150\n",
      "522/522 [==============================] - 1s 1ms/step - loss: 0.0032\n",
      "Epoch 46/150\n",
      "522/522 [==============================] - 1s 1ms/step - loss: 0.0032A: 0s - loss: 0\n",
      "Epoch 47/150\n",
      "522/522 [==============================] - 1s 1ms/step - loss: 0.0031\n",
      "Epoch 48/150\n",
      "522/522 [==============================] - 1s 1ms/step - loss: 0.0031\n",
      "Epoch 49/150\n",
      "522/522 [==============================] - 1s 1ms/step - loss: 0.0031\n",
      "Epoch 50/150\n",
      "522/522 [==============================] - 1s 1ms/step - loss: 0.0031A: 0s - loss: \n",
      "Epoch 51/150\n",
      "522/522 [==============================] - 1s 1ms/step - loss: 0.0031\n",
      "Epoch 52/150\n",
      "522/522 [==============================] - 1s 1ms/step - loss: 0.0030\n",
      "Epoch 53/150\n",
      "522/522 [==============================] - 1s 1ms/step - loss: 0.0030\n",
      "Epoch 54/150\n",
      "522/522 [==============================] - 1s 1ms/step - loss: 0.0030\n",
      "Epoch 55/150\n",
      "522/522 [==============================] - 1s 1ms/step - loss: 0.0030\n",
      "Epoch 56/150\n",
      "522/522 [==============================] - 1s 1ms/step - loss: 0.0030\n",
      "Epoch 57/150\n",
      "522/522 [==============================] - 1s 1ms/step - loss: 0.0030\n",
      "Epoch 58/150\n",
      "522/522 [==============================] - 1s 1ms/step - loss: 0.0030\n",
      "Epoch 59/150\n",
      "522/522 [==============================] - 1s 1ms/step - loss: 0.0030\n",
      "Epoch 60/150\n",
      "522/522 [==============================] - 1s 1ms/step - loss: 0.0029\n",
      "Epoch 61/150\n",
      "522/522 [==============================] - 1s 1ms/step - loss: 0.0029\n",
      "Epoch 62/150\n",
      "522/522 [==============================] - 1s 1ms/step - loss: 0.0029\n",
      "Epoch 63/150\n",
      "522/522 [==============================] - 1s 1ms/step - loss: 0.0029\n",
      "Epoch 64/150\n",
      "522/522 [==============================] - 1s 1ms/step - loss: 0.0029\n",
      "Epoch 65/150\n",
      "522/522 [==============================] - 1s 1ms/step - loss: 0.0029\n",
      "Epoch 66/150\n",
      "522/522 [==============================] - 1s 1ms/step - loss: 0.0029\n",
      "Epoch 67/150\n",
      "522/522 [==============================] - 1s 1ms/step - loss: 0.0028\n",
      "Epoch 68/150\n",
      "522/522 [==============================] - 1s 1ms/step - loss: 0.0029\n",
      "Epoch 69/150\n",
      "522/522 [==============================] - 1s 1ms/step - loss: 0.0028\n",
      "Epoch 70/150\n",
      "522/522 [==============================] - 1s 1ms/step - loss: 0.0028\n",
      "Epoch 71/150\n",
      "522/522 [==============================] - 1s 1ms/step - loss: 0.0028\n",
      "Epoch 72/150\n",
      "522/522 [==============================] - 1s 1ms/step - loss: 0.0028\n",
      "Epoch 73/150\n",
      "522/522 [==============================] - 1s 1ms/step - loss: 0.0028A: 0s - loss:\n",
      "Epoch 74/150\n",
      "522/522 [==============================] - 1s 1ms/step - loss: 0.0028\n",
      "Epoch 75/150\n",
      "522/522 [==============================] - 1s 2ms/step - loss: 0.0028\n",
      "Epoch 76/150\n",
      "522/522 [==============================] - 1s 1ms/step - loss: 0.0028\n",
      "Epoch 77/150\n",
      "522/522 [==============================] - 1s 1ms/step - loss: 0.0028\n",
      "Epoch 78/150\n",
      "522/522 [==============================] - 1s 1ms/step - loss: 0.0027\n",
      "Epoch 79/150\n",
      "522/522 [==============================] - 1s 1ms/step - loss: 0.0027\n",
      "Epoch 80/150\n",
      "522/522 [==============================] - 1s 1ms/step - loss: 0.0027\n",
      "Epoch 81/150\n",
      "522/522 [==============================] - 1s 1ms/step - loss: 0.0027\n",
      "Epoch 82/150\n",
      "522/522 [==============================] - 1s 1ms/step - loss: 0.0027\n",
      "Epoch 83/150\n",
      "522/522 [==============================] - 1s 1ms/step - loss: 0.0027\n",
      "Epoch 84/150\n",
      "522/522 [==============================] - 1s 1ms/step - loss: 0.0027\n",
      "Epoch 85/150\n",
      "522/522 [==============================] - 1s 1ms/step - loss: 0.0027\n",
      "Epoch 86/150\n",
      "522/522 [==============================] - 1s 1ms/step - loss: 0.0027\n",
      "Epoch 87/150\n",
      "522/522 [==============================] - 1s 1ms/step - loss: 0.0027\n",
      "Epoch 88/150\n",
      "522/522 [==============================] - 1s 1ms/step - loss: 0.0026\n",
      "Epoch 89/150\n",
      "522/522 [==============================] - 1s 1ms/step - loss: 0.0026\n",
      "Epoch 90/150\n",
      "522/522 [==============================] - 1s 1ms/step - loss: 0.0026\n",
      "Epoch 91/150\n",
      "522/522 [==============================] - 1s 1ms/step - loss: 0.0026\n",
      "Epoch 92/150\n",
      "522/522 [==============================] - 1s 1ms/step - loss: 0.0026\n",
      "Epoch 93/150\n",
      "522/522 [==============================] - 1s 1ms/step - loss: 0.0026\n",
      "Epoch 94/150\n",
      "522/522 [==============================] - 1s 1ms/step - loss: 0.0026\n",
      "Epoch 95/150\n",
      "522/522 [==============================] - 1s 1ms/step - loss: 0.0026\n",
      "Epoch 96/150\n",
      "522/522 [==============================] - 1s 1ms/step - loss: 0.0026\n",
      "Epoch 97/150\n",
      "522/522 [==============================] - 1s 1ms/step - loss: 0.0026\n",
      "Epoch 98/150\n",
      "522/522 [==============================] - 1s 1ms/step - loss: 0.0026\n",
      "Epoch 99/150\n",
      "522/522 [==============================] - 1s 1ms/step - loss: 0.0026\n",
      "Epoch 100/150\n",
      "522/522 [==============================] - 1s 1ms/step - loss: 0.0026\n",
      "Epoch 101/150\n",
      "522/522 [==============================] - 1s 1ms/step - loss: 0.0026\n",
      "Epoch 102/150\n",
      "522/522 [==============================] - 1s 1ms/step - loss: 0.0026\n",
      "Epoch 103/150\n",
      "522/522 [==============================] - 1s 1ms/step - loss: 0.0025\n",
      "Epoch 104/150\n",
      "522/522 [==============================] - 1s 1ms/step - loss: 0.0025\n",
      "Epoch 105/150\n",
      "522/522 [==============================] - 1s 1ms/step - loss: 0.0025\n",
      "Epoch 106/150\n",
      "522/522 [==============================] - 1s 1ms/step - loss: 0.0025\n",
      "Epoch 107/150\n",
      "522/522 [==============================] - 1s 1ms/step - loss: 0.0025\n",
      "Epoch 108/150\n",
      "522/522 [==============================] - 1s 1ms/step - loss: 0.0025\n",
      "Epoch 109/150\n",
      "522/522 [==============================] - 1s 1ms/step - loss: 0.0025\n",
      "Epoch 110/150\n",
      "522/522 [==============================] - 1s 1ms/step - loss: 0.0025\n",
      "Epoch 111/150\n",
      "522/522 [==============================] - 1s 1ms/step - loss: 0.0025\n",
      "Epoch 112/150\n",
      "522/522 [==============================] - 1s 1ms/step - loss: 0.0025\n",
      "Epoch 113/150\n",
      "522/522 [==============================] - 1s 1ms/step - loss: 0.0025\n",
      "Epoch 114/150\n",
      "522/522 [==============================] - 1s 1ms/step - loss: 0.0025\n",
      "Epoch 115/150\n",
      "522/522 [==============================] - 1s 1ms/step - loss: 0.0024\n",
      "Epoch 116/150\n",
      "522/522 [==============================] - 1s 1ms/step - loss: 0.0024\n",
      "Epoch 117/150\n",
      "522/522 [==============================] - 1s 1ms/step - loss: 0.0024\n",
      "Epoch 118/150\n",
      "522/522 [==============================] - 1s 1ms/step - loss: 0.0024\n",
      "Epoch 119/150\n",
      "522/522 [==============================] - 1s 1ms/step - loss: 0.0024\n",
      "Epoch 120/150\n",
      "522/522 [==============================] - 1s 1ms/step - loss: 0.0024\n",
      "Epoch 121/150\n",
      "522/522 [==============================] - 1s 1ms/step - loss: 0.0024\n",
      "Epoch 122/150\n",
      "522/522 [==============================] - 1s 1ms/step - loss: 0.0024\n",
      "Epoch 123/150\n",
      "522/522 [==============================] - 1s 1ms/step - loss: 0.0024A: 0s - l\n",
      "Epoch 124/150\n",
      "522/522 [==============================] - 1s 1ms/step - loss: 0.0024\n",
      "Epoch 125/150\n",
      "522/522 [==============================] - 1s 1ms/step - loss: 0.0024\n",
      "Epoch 126/150\n",
      "522/522 [==============================] - 1s 1ms/step - loss: 0.0024A: 0s - l\n",
      "Epoch 127/150\n",
      "522/522 [==============================] - 1s 1ms/step - loss: 0.0024\n",
      "Epoch 128/150\n",
      "522/522 [==============================] - 1s 1ms/step - loss: 0.0024\n",
      "Epoch 129/150\n",
      "522/522 [==============================] - 1s 1ms/step - loss: 0.0023\n",
      "Epoch 130/150\n",
      "522/522 [==============================] - 1s 1ms/step - loss: 0.0024\n",
      "Epoch 131/150\n",
      "522/522 [==============================] - 1s 1ms/step - loss: 0.0024\n",
      "Epoch 132/150\n",
      "522/522 [==============================] - 1s 1ms/step - loss: 0.0024\n",
      "Epoch 133/150\n",
      "522/522 [==============================] - 1s 1ms/step - loss: 0.0023\n",
      "Epoch 134/150\n",
      "522/522 [==============================] - 1s 1ms/step - loss: 0.0023\n",
      "Epoch 135/150\n",
      "522/522 [==============================] - 1s 1ms/step - loss: 0.0024\n",
      "Epoch 136/150\n",
      "522/522 [==============================] - 1s 1ms/step - loss: 0.0023\n",
      "Epoch 137/150\n",
      "522/522 [==============================] - 1s 1ms/step - loss: 0.0023\n",
      "Epoch 138/150\n",
      "522/522 [==============================] - 1s 1ms/step - loss: 0.0023\n",
      "Epoch 139/150\n",
      "522/522 [==============================] - 1s 1ms/step - loss: 0.0023\n",
      "Epoch 140/150\n",
      "522/522 [==============================] - 1s 1ms/step - loss: 0.0023\n",
      "Epoch 141/150\n",
      "522/522 [==============================] - 1s 1ms/step - loss: 0.0023\n",
      "Epoch 142/150\n",
      "522/522 [==============================] - 1s 1ms/step - loss: 0.0023\n",
      "Epoch 143/150\n",
      "522/522 [==============================] - 1s 1ms/step - loss: 0.0023\n",
      "Epoch 144/150\n",
      "522/522 [==============================] - 1s 1ms/step - loss: 0.0023\n",
      "Epoch 145/150\n",
      "522/522 [==============================] - 1s 1ms/step - loss: 0.0023\n",
      "Epoch 146/150\n",
      "522/522 [==============================] - 1s 1ms/step - loss: 0.0023\n",
      "Epoch 147/150\n",
      "522/522 [==============================] - 1s 1ms/step - loss: 0.0023\n",
      "Epoch 148/150\n",
      "522/522 [==============================] - 1s 1ms/step - loss: 0.0023\n",
      "Epoch 149/150\n",
      "522/522 [==============================] - 1s 1ms/step - loss: 0.0023\n",
      "Epoch 150/150\n",
      "522/522 [==============================] - 1s 1ms/step - loss: 0.0023\n"
     ]
    },
    {
     "data": {
      "text/plain": [
       "[<matplotlib.lines.Line2D at 0x22331b71df0>]"
      ]
     },
     "execution_count": 7,
     "metadata": {},
     "output_type": "execute_result"
    },
    {
     "data": {
      "image/png": "[encoded data removed]",
      "text/plain": [
       "<Figure size 432x288 with 1 Axes>"
      ]
     },
     "metadata": {
      "needs_background": "light"
     },
     "output_type": "display_data"
    }
   ],
   "source": [
    "history = NN_model.fit(x = x_train, y = y_train, epochs=150,)\n",
    "\n",
    "plt.plot(history.history['loss'])"
   ]
  },
  {
   "cell_type": "code",
   "execution_count": 42,
   "id": "e75c6d95",
   "metadata": {},
   "outputs": [
    {
     "name": "stdout",
     "output_type": "stream",
     "text": [
      "131/131 [==============================] - 0s 1ms/step - loss: 0.0021\n"
     ]
    }
   ],
   "source": [
    "loss = NN_model.evaluate(x_test, y_test)\n"
   ]
  },
  {
   "cell_type": "code",
   "execution_count": 44,
   "id": "6981b60d",
   "metadata": {},
   "outputs": [
    {
     "data": {
      "text/plain": [
       "array([[0.2307888 ],\n",
       "       [0.21750957],\n",
       "       [0.08598602],\n",
       "       ...,\n",
       "       [0.4849384 ],\n",
       "       [0.13985738],\n",
       "       [0.17277867]], dtype=float32)"
      ]
     },
     "execution_count": 44,
     "metadata": {},
     "output_type": "execute_result"
    }
   ],
   "source": [
    "(NN_model.predict(x_test))"
   ]
  },
  {
   "cell_type": "code",
   "execution_count": 13,
   "id": "3be1373e",
   "metadata": {},
   "outputs": [],
   "source": [
    "y = np.array(y_test).reshape(-1,1)"
   ]
  },
  {
   "cell_type": "code",
   "execution_count": null,
   "id": "b3f44400",
   "metadata": {},
   "outputs": [],
   "source": []
  }
 ],
 "metadata": {
  "kernelspec": {
   "display_name": "Python 3 (ipykernel)",
   "language": "python",
   "name": "python3"
  },
  "language_info": {
   "codemirror_mode": {
    "name": "ipython",
    "version": 3
   },
   "file_extension": ".py",
   "mimetype": "text/x-python",
   "name": "python",
   "nbconvert_exporter": "python",
   "pygments_lexer": "ipython3",
   "version": "3.9.7"
  }
 },
 "nbformat": 4,
 "nbformat_minor": 5
}
