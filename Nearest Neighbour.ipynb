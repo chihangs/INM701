{
 "cells": [
  {
   "cell_type": "markdown",
   "id": "a012aab2",
   "metadata": {},
   "source": [
    "# Nearest Neighbour\n",
    "\n",
    "The purpose of this sectionn is to use nearest neighbour algorithm to predict house price. First, import and load source data."
   ]
  },
  {
   "cell_type": "code",
   "execution_count": 41,
   "id": "eb82d527",
   "metadata": {},
   "outputs": [],
   "source": [
    "import pandas as pd\n",
    "import numpy as np\n",
    "import seaborn as sns\n",
    "import matplotlib.pyplot as plt\n",
    "from scipy import stats\n",
    "import datetime\n",
    "from sklearn.linear_model import LinearRegression\n",
    "from sklearn.model_selection import train_test_split\n",
    "from sklearn.neighbors import NearestNeighbors, KNeighborsRegressor\n",
    "\n",
    "path = './archive/'\n",
    "\n",
    "kc_data = pd.read_csv(path + '/kc_house_data.csv')"
   ]
  },
  {
   "cell_type": "markdown",
   "id": "901906fa",
   "metadata": {},
   "source": [
    "Clean data. Remove obviously wrong record with 33 bedrooms, detected in \"Outlier checking.ipynb\". Then split data into train, test, final test data by 60/20/20 ratio."
   ]
  },
  {
   "cell_type": "code",
   "execution_count": 42,
   "id": "351253d2",
   "metadata": {},
   "outputs": [],
   "source": [
    "data = kc_data.drop(['id','date'],axis = 1)\n",
    "#remove obviously wrong record with 33 bedrooms, detected in \"Outlier checking.ipynb\"\n",
    "data = data.drop(labels=15870, axis=0) \n",
    "\n",
    "y = data['price']\n",
    "X = data.drop('price', axis=1)\n",
    "\n",
    "# split the train, test and final test data\n",
    "X_train, X_final_test, y_train, y_final_test = train_test_split(X, y, test_size=0.2, random_state=42) \n",
    "X_train, X_test, y_train, y_test = train_test_split(X_train, y_train, test_size=0.25, random_state=42) \n"
   ]
  },
  {
   "cell_type": "markdown",
   "id": "72645f45",
   "metadata": {},
   "source": [
    "#-------------above: data clean and split--------------------------------------------\n",
    "\n",
    "Then transform input data by standard normal distribution."
   ]
  },
  {
   "cell_type": "code",
   "execution_count": 43,
   "id": "8477a0d4",
   "metadata": {},
   "outputs": [],
   "source": [
    "def norm(X):\n",
    "        X_new = stats.zscore(X)\n",
    "        X_mean = np.average(X, axis=0)\n",
    "        X_sigma = np.var(X, axis=0)**0.5\n",
    "        return X_new, X_mean, X_sigma"
   ]
  },
  {
   "cell_type": "code",
   "execution_count": 44,
   "id": "5f6768c3",
   "metadata": {},
   "outputs": [],
   "source": [
    "X_train_norm, X_train_mean, X_train_sigma = norm(X_train)\n",
    "X_test_norm, X_test_mean, X_test_sigma = norm(X_test)\n"
   ]
  },
  {
   "cell_type": "markdown",
   "id": "85dd8c31",
   "metadata": {},
   "source": [
    "Then fit to nearest neighbour model. Select KD tree algorithm for the model as it is good for large number of samples with dimension < 20."
   ]
  },
  {
   "cell_type": "code",
   "execution_count": 53,
   "id": "fc8f5299",
   "metadata": {},
   "outputs": [
    {
     "name": "stdout",
     "output_type": "stream",
     "text": [
      "R2 for k=2: 0.7580080642589794\n",
      "R2 for k=3: 0.7753317790865841\n",
      "R2 for k=4: 0.7772805172795035\n",
      "R2 for k=5: 0.7795239500146574\n",
      "R2 for k=6: 0.7774976447676919\n",
      "R2 for k=7: 0.7794629035603614\n",
      "R2 for k=8: 0.7785722564094976\n",
      "R2 for k=9: 0.7776880808317788\n",
      "R2 for k=10: 0.7784694908705883\n",
      "R2 for k=11: 0.7794300000386134\n",
      "R2 for k=12: 0.7773589320728365\n",
      "R2 for k=13: 0.7763503241862784\n",
      "R2 for k=14: 0.7768511497291425\n",
      "R2 for k=15: 0.7759539902993505\n",
      "R2 for k=16: 0.7729336681572083\n",
      "R2 for k=17: 0.7729253510506396\n",
      "R2 for k=18: 0.7705550898983238\n",
      "R2 for k=19: 0.7697482091319399\n",
      "R2 for k=20: 0.7690066610251997\n"
     ]
    }
   ],
   "source": [
    "for k in range(2,21):\n",
    "    neigh = KNeighborsRegressor(n_neighbors=k, algorithm='kd_tree')\n",
    "    neigh.fit(X_train_norm, y_train)\n",
    "    print(\"R2 for k=\"+str(k)+\": \"+str(neigh.score(X_test_norm, y_test)))"
   ]
  },
  {
   "cell_type": "code",
   "execution_count": null,
   "id": "733769b0",
   "metadata": {},
   "outputs": [],
   "source": []
  }
 ],
 "metadata": {
  "kernelspec": {
   "display_name": "Python 3",
   "language": "python",
   "name": "python3"
  },
  "language_info": {
   "codemirror_mode": {
    "name": "ipython",
    "version": 3
   },
   "file_extension": ".py",
   "mimetype": "text/x-python",
   "name": "python",
   "nbconvert_exporter": "python",
   "pygments_lexer": "ipython3",
   "version": "3.8.8"
  }
 },
 "nbformat": 4,
 "nbformat_minor": 5
}
